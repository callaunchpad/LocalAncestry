{
 "cells": [
  {
   "cell_type": "code",
   "execution_count": 1,
   "metadata": {
    "collapsed": true
   },
   "outputs": [],
   "source": [
    "import hmmlearn as hm\n"
   ]
  },
  {
   "cell_type": "code",
   "execution_count": 2,
   "metadata": {
    "collapsed": true
   },
   "outputs": [],
   "source": [
    "import numpy as np\n",
    "from hmmlearn import hmm\n",
    "np.random.seed(42)\n",
    "\n",
    "model = hmm.GaussianHMM(n_components=3, covariance_type=\"full\")\n",
    "model.startprob_ = np.array([0.6, 0.3, 0.1])\n",
    "model.transmat_ = np.array([[0.7, 0.2, 0.1],\n",
    "                          [0.3, 0.5, 0.2],\n",
    "                         [0.3, 0.3, 0.4]])\n",
    "model.means_ = np.array([[0.0, 0.0], [3.0, -3.0], [5.0, 10.0]])\n",
    "model.covars_ = np.tile(np.identity(2), (3, 1, 1))\n",
    "X, Z = model.sample(100)"
   ]
  },
  {
   "cell_type": "code",
   "execution_count": 8,
   "metadata": {},
   "outputs": [],
   "source": [
    "#Parameters\n",
    "n_1 = 1500 #Individuals of ancestry one. TODO: Find real number\n",
    "n_2 = 1500 #Individuals of ancestry two. TODO: Find real number\n",
    "n = [n_1, n_2]\n",
    "T = 10 #?????????????? Wild guess\n",
    "mu_1 = n_1 / (n_1 + n_2) #????????????? Wild guess\n",
    "mu_2 = 1 - mu_1\n",
    "mu = [mu_1, mu_2]\n",
    "p_1 = 0.05\n",
    "p_2 = 0.05\n",
    "p = [p_1, p_2]\n",
    "rho_1 = 60000 / n_1\n",
    "rho_2 = 90000 / n_2\n",
    "rho = [rho_1, rho_2]\n",
    "theta_1 = 0.2/(0.2+n_1)\n",
    "theta_2 = 0.2/(0.2+n_2)\n",
    "theta_3 = 0.01\n",
    "theta = [theta_1, theta_2]\n",
    "def transition_prob(i, j, k, l, m, n, r):\n",
    "    if(i != l and m == l):\n",
    "        return (1 - np.exp(-r*T)) * mu[l] * (1 - p[l])/n[m]\n",
    "    elif(i != l and m != l):\n",
    "        return (1 - np.exp(-r*rho[l])) * mu[l] * p[l]/n[m]\n",
    "    elif(i == l and m == l and (j != m or k != n)):\n",
    "        return np.exp(-r*T)*(1 - np.exp(-r*rho[l])) * (1 - p[l])/n[m] \n",
    "        + (1 - np.exp(-r*T)) * mu[l] * (1 - p[l])/n[m]\n",
    "    elif(i == l and m == l and j == m and k == n):\n",
    "        return np.exp(-r*T)*np.exp(-r*rho[l])\n",
    "        + np.exp(-r*T)*(1 - np.exp(-r*rho[l]))*(1 - p[l])/n[m] \n",
    "        + (1 - np.exp(-r*T)) * mu[l] * (1 - p[l])/n[m]\n",
    "    elif(i == l and m != l and (j != m or k != n)):\n",
    "        return np.exp(-r*T)*(1 - np.exp(-r*rho[l])) * p[l]/n[m] \n",
    "        + (1 - np.exp(-r*T)) * mu[l] * p[l] / n[m] \n",
    "    elif(i == l and m != l and j == m and k == n):\n",
    "        return np.exp(-r*T)*np.exp(-r*rho[l])\n",
    "        + np.exp(-r*T) * (1 - np.exp(-r*rho[l])) * p[l]/n[m]\n",
    "        + (1 - np.exp(-r*T)) * mu[l] * p[l]/n[m]\n",
    "        \n",
    "def emmission_prob():\n",
    "    pass"
   ]
  },
  {
   "cell_type": "code",
   "execution_count": null,
   "metadata": {
    "collapsed": true
   },
   "outputs": [],
   "source": []
  }
 ],
 "metadata": {
  "kernelspec": {
   "display_name": "Python 3",
   "language": "python",
   "name": "python3"
  },
  "language_info": {
   "codemirror_mode": {
    "name": "ipython",
    "version": 3
   },
   "file_extension": ".py",
   "mimetype": "text/x-python",
   "name": "python",
   "nbconvert_exporter": "python",
   "pygments_lexer": "ipython3",
   "version": "3.6.8"
  }
 },
 "nbformat": 4,
 "nbformat_minor": 2
}
