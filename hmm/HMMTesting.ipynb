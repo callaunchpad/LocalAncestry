{
 "cells": [
  {
   "cell_type": "code",
   "execution_count": 1,
   "metadata": {
    "collapsed": true
   },
   "outputs": [],
   "source": [
    "import hmmlearn as hm\n"
   ]
  },
  {
   "cell_type": "code",
   "execution_count": 5,
   "metadata": {
    "collapsed": true
   },
   "outputs": [],
   "source": [
    "import numpy as np\n",
    "from hmmlearn import hmm\n",
    "np.random.seed(42)\n",
    "\n",
    "model = hmm.GaussianHMM(n_components=3, covariance_type=\"full\")\n",
    "model.startprob_ = np.array([0.6, 0.3, 0.1])\n",
    "model.transmat_ = np.array([[0.7, 0.2, 0.1],\n",
    "                          [0.3, 0.5, 0.2],\n",
    "                         [0.3, 0.3, 0.4]])\n",
    "model.means_ = np.array([[0.0, 0.0], [3.0, -3.0], [5.0, 10.0]])\n",
    "model.covars_ = np.tile(np.identity(2), (3, 1, 1))\n",
    "X, Z = model.sample(100)"
   ]
  },
  {
   "cell_type": "code",
   "execution_count": 16,
   "metadata": {},
   "outputs": [],
   "source": [
    "n1 = 100\n",
    "n2 = 100\n",
    "\n",
    "T = 10\n",
    "mu1 = 0.5\n",
    "mu2 = 1 - mu1\n",
    "\n",
    "# Parameters set from HAPMIX paper\n",
    "p1 = 0.05\n",
    "p2 = 0.05\n",
    "ro1 = 60000/n1\n",
    "ro2 = 90000/n2\n",
    "theta1 = 0.2/(0.2 + n1)\n",
    "theta2 = 0.2/(0.2 + n2)\n",
    "theta3 = 0.01\n",
    "\n",
    "# Helper functions\n",
    "def pois_T(r_s):\n",
    "    return np.exp(-r_s * T)\n",
    "\n",
    "def pois_ro(r_s, ro):\n",
    "    return np.exp(-r_s * ro)\n",
    "\n",
    "def indicator(pop, indiv, value, site):\n",
    "    data = (pop1 if pop == 1 else pop2) \n",
    "    return data[indiv][site] == value\n",
    "\n",
    "# Helper for generating hidden states\n",
    "def gen_hidden_states():\n",
    "    # zero index population individuals\n",
    "    hidden_states = []\n",
    "    for i in range(n1):\n",
    "        hidden_states.append((1, 1, i))\n",
    "        hidden_states.append((1, 2, i))\n",
    "    for j in range(n2):\n",
    "        hidden_states.append((2, 2, n1 + j))\n",
    "        hidden_states.append((2, 1, n1 + j))\n",
    "    return hidden_states\n",
    "\n",
    "# Helper for getting relevant variables\n",
    "def get_relevant_vars(hidden_state):\n",
    "    (l, m, n) = hidden_state\n",
    "    (mu_l, ro_l, p_l) = (mu1, ro1, p1) if l == 1 else (mu2, ro2, p2)\n",
    "    n_m = n1 if m == 1 else n2\n",
    "    return (mu_l, ro_l, p_l, n_m)\n",
    "\n",
    "# Transition state function\n",
    "def transition(curr_state, r_s, obs):\n",
    "    \"\"\"\n",
    "    curr_state: (i, j, k) triple of values denoting current hidden state\n",
    "    r_s: genetic distance between current pair of SNP sites\n",
    "    obs: observed value\n",
    "\n",
    "    returns: (l, m, n) triple of values corresponding to next hidden state\n",
    "    \"\"\"\n",
    "    (i, j, k) = curr_state\n",
    "    trans_mat = dict()\n",
    "    poss_hidden_states = gen_hidden_states()\n",
    "\n",
    "    counts = [0 for i in range(6)]\n",
    "    for hidden_state in poss_hidden_states:\n",
    "        mu_l, ro_l, p_l, n_m = get_relevant_vars(hidden_state)\n",
    "        (l, m, n) = hidden_state\n",
    "\n",
    "        if l != i and m == l:\n",
    "            trans_mat[hidden_state] = (1 - pois_T(r_s))*mu_l * (1 - p_l)/n_m\n",
    "            counts[0] += 1\n",
    "        elif l != i and m != l:\n",
    "            trans_mat[hidden_state] = (1 - pois_T(r_s))*mu_l * p_l/n_m\n",
    "            counts[1] += 1\n",
    "        elif l == i and m == l and (j != m or k != n):\n",
    "            trans_mat[hidden_state] = pois_T(r_s) * (1 - pois_ro(r_s, ro_l)) * (1 - p_l)/n_m + (1 - pois_T(r_s))*mu_l * (1 - p_l)/n_m\n",
    "            counts[2] += 1\n",
    "        elif l == i and m == l and j == m and k == n:\n",
    "            trans_mat[hidden_state] = pois_T(r_s) * pois_ro(r_s, ro_l) + pois_T(r_s) * (1 - pois_ro(r_s, ro_l)) * (1 - p_l)/n_m + (1 - pois_T(r_s))*mu_l * (1 - p_l)/n_m\n",
    "            counts[3] += 1\n",
    "        elif l == i and m != l and (j != m or k != n):\n",
    "            trans_mat[hidden_state] = pois_T(r_s) * (1 - pois_ro(r_s, ro_l)) * p_l/n_m + (1 - pois_T(r_s))*mu_l * p_l/n_m\n",
    "            counts[4] += 1\n",
    "        elif l == i and m != l and j == m and k == n:\n",
    "            trans_mat[hidden_state] = pois_T(r_s) * pois_ro(r_s, ro_l) + pois_T(r_s) * (1 - pois_ro(r_s, ro_l)) * p_l/n_m + (1 - pois_T(r_s))*mu_l * p_l/n_m\n",
    "            counts[5] += 1\n",
    "\n",
    "    print(trans_mat[(1, 1, 10)])\n",
    "    print(trans_mat[(1, 1, 11)])\n",
    "    normalized_probs = np.array(list(trans_mat.values()))/sum(list(trans_mat.values()))\n",
    "    next_hidden_state_ind = np.random.choice(list(range(len(trans_mat))), 1, p=normalized_probs)[0]\n",
    "    next_hidden_state = list(trans_mat.keys())[next_hidden_state_ind]\n",
    "    print(max(normalized_probs))"
   ]
  },
  {
   "cell_type": "code",
   "execution_count": 17,
   "metadata": {},
   "outputs": [
    {
     "name": "stdout",
     "output_type": "stream",
     "text": [
      "0.00475\n",
      "0.00475\n",
      "0.004750000000000009\n"
     ]
    }
   ],
   "source": [
    "transition((1, 1, 10), 5, 0)"
   ]
  },
  {
   "cell_type": "code",
   "execution_count": null,
   "metadata": {
    "collapsed": true
   },
   "outputs": [],
   "source": []
  }
 ],
 "metadata": {
  "kernelspec": {
   "display_name": "Python 3",
   "language": "python",
   "name": "python3"
  },
  "language_info": {
   "codemirror_mode": {
    "name": "ipython",
    "version": 3
   },
   "file_extension": ".py",
   "mimetype": "text/x-python",
   "name": "python",
   "nbconvert_exporter": "python",
   "pygments_lexer": "ipython3",
   "version": "3.6.8"
  }
 },
 "nbformat": 4,
 "nbformat_minor": 2
}
